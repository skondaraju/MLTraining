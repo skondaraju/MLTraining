{
 "cells": [
  {
   "cell_type": "code",
   "execution_count": 4,
   "metadata": {},
   "outputs": [
    {
     "name": "stdout",
     "output_type": "stream",
     "text": [
      "hello world\n"
     ]
    }
   ],
   "source": [
    "print('hello world')"
   ]
  },
  {
   "cell_type": "code",
   "execution_count": 57,
   "metadata": {},
   "outputs": [
    {
     "name": "stdout",
     "output_type": "stream",
     "text": [
      "        Store Type    Size  Dept        Date  IsHoliday_x  Temperature  \\\n",
      "0           1    A  151315     1  05/02/2010        False        42.31   \n",
      "1           1    A  151315     1  12/02/2010         True        38.51   \n",
      "2           1    A  151315     1  19/02/2010        False        39.93   \n",
      "3           1    A  151315     1  26/02/2010        False        46.63   \n",
      "4           1    A  151315     1  05/03/2010        False        46.50   \n",
      "5           1    A  151315     1  12/03/2010        False        57.79   \n",
      "6           1    A  151315     1  19/03/2010        False        54.58   \n",
      "7           1    A  151315     1  26/03/2010        False        51.45   \n",
      "8           1    A  151315     1  02/04/2010        False        62.27   \n",
      "9           1    A  151315     1  09/04/2010        False        65.86   \n",
      "10          1    A  151315     1  16/04/2010        False        66.32   \n",
      "11          1    A  151315     1  23/04/2010        False        64.84   \n",
      "12          1    A  151315     1  30/04/2010        False        67.41   \n",
      "13          1    A  151315     1  07/05/2010        False        72.55   \n",
      "14          1    A  151315     1  14/05/2010        False        74.78   \n",
      "15          1    A  151315     1  21/05/2010        False        76.44   \n",
      "16          1    A  151315     1  28/05/2010        False        80.44   \n",
      "17          1    A  151315     1  04/06/2010        False        80.69   \n",
      "18          1    A  151315     1  11/06/2010        False        80.43   \n",
      "19          1    A  151315     1  18/06/2010        False        84.11   \n",
      "20          1    A  151315     1  25/06/2010        False        84.34   \n",
      "21          1    A  151315     1  02/07/2010        False        80.91   \n",
      "22          1    A  151315     1  09/07/2010        False        80.48   \n",
      "23          1    A  151315     1  16/07/2010        False        83.15   \n",
      "24          1    A  151315     1  23/07/2010        False        83.36   \n",
      "25          1    A  151315     1  30/07/2010        False        81.84   \n",
      "26          1    A  151315     1  06/08/2010        False        87.16   \n",
      "27          1    A  151315     1  13/08/2010        False        87.00   \n",
      "28          1    A  151315     1  20/08/2010        False        86.65   \n",
      "29          1    A  151315     1  27/08/2010        False        85.22   \n",
      "...       ...  ...     ...   ...         ...          ...          ...   \n",
      "421540     45    B  118221    98  06/04/2012        False        49.73   \n",
      "421541     45    B  118221    98  13/04/2012        False        51.83   \n",
      "421542     45    B  118221    98  20/04/2012        False        63.13   \n",
      "421543     45    B  118221    98  27/04/2012        False        53.20   \n",
      "421544     45    B  118221    98  04/05/2012        False        55.21   \n",
      "421545     45    B  118221    98  11/05/2012        False        61.24   \n",
      "421546     45    B  118221    98  18/05/2012        False        66.30   \n",
      "421547     45    B  118221    98  25/05/2012        False        67.21   \n",
      "421548     45    B  118221    98  01/06/2012        False        74.48   \n",
      "421549     45    B  118221    98  08/06/2012        False        64.30   \n",
      "421550     45    B  118221    98  15/06/2012        False        71.93   \n",
      "421551     45    B  118221    98  22/06/2012        False        74.22   \n",
      "421552     45    B  118221    98  29/06/2012        False        75.22   \n",
      "421553     45    B  118221    98  06/07/2012        False        82.99   \n",
      "421554     45    B  118221    98  13/07/2012        False        79.97   \n",
      "421555     45    B  118221    98  20/07/2012        False        78.89   \n",
      "421556     45    B  118221    98  27/07/2012        False        77.20   \n",
      "421557     45    B  118221    98  03/08/2012        False        76.58   \n",
      "421558     45    B  118221    98  10/08/2012        False        78.65   \n",
      "421559     45    B  118221    98  17/08/2012        False        75.71   \n",
      "421560     45    B  118221    98  24/08/2012        False        72.62   \n",
      "421561     45    B  118221    98  31/08/2012        False        75.09   \n",
      "421562     45    B  118221    98  07/09/2012         True        75.70   \n",
      "421563     45    B  118221    98  14/09/2012        False        67.87   \n",
      "421564     45    B  118221    98  21/09/2012        False        65.32   \n",
      "421565     45    B  118221    98  28/09/2012        False        64.88   \n",
      "421566     45    B  118221    98  05/10/2012        False        64.89   \n",
      "421567     45    B  118221    98  12/10/2012        False        54.47   \n",
      "421568     45    B  118221    98  19/10/2012        False        56.47   \n",
      "421569     45    B  118221    98  26/10/2012        False        58.85   \n",
      "\n",
      "        Fuel_Price  MarkDown1  MarkDown2  MarkDown3  MarkDown4  MarkDown5  \\\n",
      "0            2.572        NaN        NaN        NaN        NaN        NaN   \n",
      "1            2.548        NaN        NaN        NaN        NaN        NaN   \n",
      "2            2.514        NaN        NaN        NaN        NaN        NaN   \n",
      "3            2.561        NaN        NaN        NaN        NaN        NaN   \n",
      "4            2.625        NaN        NaN        NaN        NaN        NaN   \n",
      "5            2.667        NaN        NaN        NaN        NaN        NaN   \n",
      "6            2.720        NaN        NaN        NaN        NaN        NaN   \n",
      "7            2.732        NaN        NaN        NaN        NaN        NaN   \n",
      "8            2.719        NaN        NaN        NaN        NaN        NaN   \n",
      "9            2.770        NaN        NaN        NaN        NaN        NaN   \n",
      "10           2.808        NaN        NaN        NaN        NaN        NaN   \n",
      "11           2.795        NaN        NaN        NaN        NaN        NaN   \n",
      "12           2.780        NaN        NaN        NaN        NaN        NaN   \n",
      "13           2.835        NaN        NaN        NaN        NaN        NaN   \n",
      "14           2.854        NaN        NaN        NaN        NaN        NaN   \n",
      "15           2.826        NaN        NaN        NaN        NaN        NaN   \n",
      "16           2.759        NaN        NaN        NaN        NaN        NaN   \n",
      "17           2.705        NaN        NaN        NaN        NaN        NaN   \n",
      "18           2.668        NaN        NaN        NaN        NaN        NaN   \n",
      "19           2.637        NaN        NaN        NaN        NaN        NaN   \n",
      "20           2.653        NaN        NaN        NaN        NaN        NaN   \n",
      "21           2.669        NaN        NaN        NaN        NaN        NaN   \n",
      "22           2.642        NaN        NaN        NaN        NaN        NaN   \n",
      "23           2.623        NaN        NaN        NaN        NaN        NaN   \n",
      "24           2.608        NaN        NaN        NaN        NaN        NaN   \n",
      "25           2.640        NaN        NaN        NaN        NaN        NaN   \n",
      "26           2.627        NaN        NaN        NaN        NaN        NaN   \n",
      "27           2.692        NaN        NaN        NaN        NaN        NaN   \n",
      "28           2.664        NaN        NaN        NaN        NaN        NaN   \n",
      "29           2.619        NaN        NaN        NaN        NaN        NaN   \n",
      "...            ...        ...        ...        ...        ...        ...   \n",
      "421540       3.996   13450.45        NaN      26.59    3363.54    3962.01   \n",
      "421541       4.044    4736.94    6047.12      16.68    1355.11    2246.12   \n",
      "421542       4.027    9210.90    2667.05       6.25     970.33    2568.22   \n",
      "421543       4.004    2872.86       0.03      37.12      74.97    2495.29   \n",
      "421544       3.951   11984.62        NaN      47.52    6150.63    1775.54   \n",
      "421545       3.889   12611.18        NaN      21.36    1667.39    2313.12   \n",
      "421546       3.848    6813.74        NaN      13.86     936.49    2941.55   \n",
      "421547       3.798    5370.39        NaN     361.22    1287.62    2461.81   \n",
      "421548       3.742   10643.62      48.20     201.56    2599.35    1856.97   \n",
      "421549       3.689    8429.61     148.60      76.15    1465.54    7180.97   \n",
      "421550       3.620    8148.19     252.70      90.05    1226.11    2942.39   \n",
      "421551       3.564    5565.31     222.50       1.16    2149.76    7474.76   \n",
      "421552       3.506    3291.36     425.60        NaN     314.88    2255.34   \n",
      "421553       3.475    5878.09     169.00      64.36    2996.47    5477.04   \n",
      "421554       3.523    2978.08     118.90      22.07    1899.54    5181.94   \n",
      "421555       3.567    6682.75      24.24      12.83    2249.85    2288.30   \n",
      "421556       3.647    5753.81     167.95       1.23    9181.48    3156.06   \n",
      "421557       3.654   24853.05      39.56      17.96   11142.69    2768.32   \n",
      "421558       3.722   17868.84      50.60      57.66    2593.93    1890.59   \n",
      "421559       3.807    3657.79       6.00       0.30    1630.50    3794.22   \n",
      "421560       3.834    7936.20      58.38      22.00    5518.07    2291.97   \n",
      "421561       3.867   23641.30       6.00      92.93    6988.31    3992.13   \n",
      "421562       3.911   11024.45      12.80      52.63    1854.77    2055.70   \n",
      "421563       3.948   11407.95        NaN       4.30    3421.72    5268.92   \n",
      "421564       4.038    8452.20      92.28      63.24    2376.38    8670.40   \n",
      "421565       3.997    4556.61      20.64       1.50    1601.01    3288.25   \n",
      "421566       3.985    5046.74        NaN      18.82    2253.43    2340.01   \n",
      "421567       4.000    1956.28        NaN       7.89     599.32    3990.54   \n",
      "421568       3.969    2004.02        NaN       3.18     437.73    1537.49   \n",
      "421569       3.882    4018.91      58.08     100.00     211.94     858.33   \n",
      "\n",
      "               CPI  Unemployment  IsHoliday_y  \n",
      "0       211.096358         8.106        False  \n",
      "1       211.242170         8.106         True  \n",
      "2       211.289143         8.106        False  \n",
      "3       211.319643         8.106        False  \n",
      "4       211.350143         8.106        False  \n",
      "5       211.380643         8.106        False  \n",
      "6       211.215635         8.106        False  \n",
      "7       211.018042         8.106        False  \n",
      "8       210.820450         7.808        False  \n",
      "9       210.622857         7.808        False  \n",
      "10      210.488700         7.808        False  \n",
      "11      210.439123         7.808        False  \n",
      "12      210.389546         7.808        False  \n",
      "13      210.339968         7.808        False  \n",
      "14      210.337426         7.808        False  \n",
      "15      210.617093         7.808        False  \n",
      "16      210.896761         7.808        False  \n",
      "17      211.176428         7.808        False  \n",
      "18      211.456095         7.808        False  \n",
      "19      211.453772         7.808        False  \n",
      "20      211.338653         7.808        False  \n",
      "21      211.223533         7.787        False  \n",
      "22      211.108414         7.787        False  \n",
      "23      211.100385         7.787        False  \n",
      "24      211.235144         7.787        False  \n",
      "25      211.369903         7.787        False  \n",
      "26      211.504662         7.787        False  \n",
      "27      211.639421         7.787        False  \n",
      "28      211.603363         7.787        False  \n",
      "29      211.567306         7.787        False  \n",
      "...            ...           ...          ...  \n",
      "421540  190.685171         8.567        False  \n",
      "421541  190.759596         8.567        False  \n",
      "421542  190.813801         8.567        False  \n",
      "421543  190.868006         8.567        False  \n",
      "421544  190.922212         8.567        False  \n",
      "421545  190.976417         8.567        False  \n",
      "421546  190.996448         8.567        False  \n",
      "421547  191.002810         8.567        False  \n",
      "421548  191.009171         8.567        False  \n",
      "421549  191.015533         8.567        False  \n",
      "421550  191.029973         8.567        False  \n",
      "421551  191.064610         8.567        False  \n",
      "421552  191.099246         8.567        False  \n",
      "421553  191.133883         8.684        False  \n",
      "421554  191.168519         8.684        False  \n",
      "421555  191.167043         8.684        False  \n",
      "421556  191.165566         8.684        False  \n",
      "421557  191.164090         8.684        False  \n",
      "421558  191.162613         8.684        False  \n",
      "421559  191.228492         8.684        False  \n",
      "421560  191.344887         8.684        False  \n",
      "421561  191.461281         8.684        False  \n",
      "421562  191.577676         8.684         True  \n",
      "421563  191.699850         8.684        False  \n",
      "421564  191.856704         8.684        False  \n",
      "421565  192.013558         8.684        False  \n",
      "421566  192.170412         8.667        False  \n",
      "421567  192.327265         8.667        False  \n",
      "421568  192.330854         8.667        False  \n",
      "421569  192.308899         8.667        False  \n",
      "\n",
      "[421570 rows x 16 columns]\n"
     ]
    }
   ],
   "source": [
    "# -*- coding: utf-8 -*-\n",
    "\"\"\"\n",
    "Created on Mon Jan  8 15:51:19 2018\n",
    "@author: sivakumar\n",
    "\"\"\"\n",
    "\n",
    "import pandas as pd\n",
    "from pandas import Series \n",
    "from sklearn import linear_model\n",
    "df_sales = pd.read_csv('sales data-set.csv')\n",
    "df_stores = pd.read_csv('stores data-set.csv')\n",
    "df_features = pd.read_csv('features data set.csv')\n",
    "\n",
    "df_merged = df_stores.merge(df_sales, on= 'Store')\n",
    "df_merged = df_merged.merge(df_features, how='left',  on=['Store','Date'])\n",
    "\n",
    "#print(df_merged.head(1))\n",
    "df_merged.to_csv('dataset_merged.csv')\n",
    "\n",
    "#print(df_merged.describe())\n",
    "#print(df_merged.dtypes)\n",
    "#df_merged.Store.unique()\n",
    "\n",
    "#print(df_merged.head())\n",
    "#df_merged.insert(0,df_merged.pop(df_merged.index('Weekly_Sales')))\n",
    "\n",
    "df_merged.insert(loc=0,column='Weekly_Sales',value = df_merged.pop('Weekly_Sales'))\n",
    "\n",
    "logreg = linear_model.LogisticRegression(C=1e5)\n",
    "\n",
    "Y = df_merged.Weekly_Sales\n",
    "X = df_merged.iloc[:,1:]\n",
    "\n",
    "print(X)\n"
   ]
  },
  {
   "cell_type": "code",
   "execution_count": 65,
   "metadata": {},
   "outputs": [
    {
     "name": "stdout",
     "output_type": "stream",
     "text": [
      "   Store Type    Size  Dept        Date  IsHoliday_x  Temperature  Fuel_Price  \\\n",
      "0      1    A  151315     1  05/02/2010        False        42.31       2.572   \n",
      "1      1    A  151315     1  12/02/2010         True        38.51       2.548   \n",
      "2      1    A  151315     1  19/02/2010        False        39.93       2.514   \n",
      "3      1    A  151315     1  26/02/2010        False        46.63       2.561   \n",
      "4      1    A  151315     1  05/03/2010        False        46.50       2.625   \n",
      "\n",
      "   MarkDown1  MarkDown2  MarkDown3  MarkDown4  MarkDown5         CPI  \\\n",
      "0        NaN        NaN        NaN        NaN        NaN  211.096358   \n",
      "1        NaN        NaN        NaN        NaN        NaN  211.242170   \n",
      "2        NaN        NaN        NaN        NaN        NaN  211.289143   \n",
      "3        NaN        NaN        NaN        NaN        NaN  211.319643   \n",
      "4        NaN        NaN        NaN        NaN        NaN  211.350143   \n",
      "\n",
      "   Unemployment  IsHoliday_y  \n",
      "0         8.106        False  \n",
      "1         8.106         True  \n",
      "2         8.106        False  \n",
      "3         8.106        False  \n",
      "4         8.106        False  \n"
     ]
    }
   ],
   "source": [
    "X.a = X.Date\n",
    " \n",
    "\n",
    "print(X.head())\n",
    "\n",
    "#logreg.fit(X,Y)"
   ]
  },
  {
   "cell_type": "code",
   "execution_count": 6,
   "metadata": {
    "collapsed": true
   },
   "outputs": [],
   "source": [
    "import numpy as np\n",
    "import matplotlib.pyplot as plt\n",
    "from sklearn import linear_model,datasets\n",
    "\n",
    "iris = datasets.load_iris()\n"
   ]
  },
  {
   "cell_type": "code",
   "execution_count": 7,
   "metadata": {
    "collapsed": true
   },
   "outputs": [],
   "source": [
    "X = iris.data[:,:2]\n",
    "Y = iris.target"
   ]
  },
  {
   "cell_type": "code",
   "execution_count": 8,
   "metadata": {},
   "outputs": [
    {
     "data": {
      "text/plain": [
       "(150, 2)"
      ]
     },
     "execution_count": 8,
     "metadata": {},
     "output_type": "execute_result"
    }
   ],
   "source": [
    "X.shape"
   ]
  },
  {
   "cell_type": "code",
   "execution_count": 9,
   "metadata": {},
   "outputs": [
    {
     "data": {
      "text/plain": [
       "(150,)"
      ]
     },
     "execution_count": 9,
     "metadata": {},
     "output_type": "execute_result"
    }
   ],
   "source": [
    "Y.shape"
   ]
  },
  {
   "cell_type": "code",
   "execution_count": 10,
   "metadata": {
    "collapsed": true
   },
   "outputs": [],
   "source": [
    "h = .02\n",
    "logreg = linear_model.LogisticRegression(C=1e5)\n"
   ]
  },
  {
   "cell_type": "code",
   "execution_count": 11,
   "metadata": {},
   "outputs": [
    {
     "data": {
      "text/plain": [
       "LogisticRegression(C=100000.0, class_weight=None, dual=False,\n",
       "          fit_intercept=True, intercept_scaling=1, max_iter=100,\n",
       "          multi_class='ovr', n_jobs=1, penalty='l2', random_state=None,\n",
       "          solver='liblinear', tol=0.0001, verbose=0, warm_start=False)"
      ]
     },
     "execution_count": 11,
     "metadata": {},
     "output_type": "execute_result"
    }
   ],
   "source": [
    "logreg.fit(X,Y)"
   ]
  },
  {
   "cell_type": "code",
   "execution_count": 12,
   "metadata": {
    "collapsed": true
   },
   "outputs": [],
   "source": [
    "x_min,x_max = X[:,0].min() - .5 , X[:,0].max() +0.5\n",
    "y_min,y_max = X[:,1].min() - .5 , X[:,1].max() +0.5\n",
    "xx, yy = np.meshgrid(np.arange(x_min,x_max,h), np.arange(y_min,y_max,h))"
   ]
  },
  {
   "cell_type": "code",
   "execution_count": 13,
   "metadata": {
    "collapsed": true
   },
   "outputs": [],
   "source": [
    "Z = logreg.predict(np.c_[xx.ravel(),yy.ravel()])"
   ]
  },
  {
   "cell_type": "code",
   "execution_count": 14,
   "metadata": {
    "collapsed": true
   },
   "outputs": [],
   "source": [
    "Z = Z.reshape(xx.shape)"
   ]
  },
  {
   "cell_type": "code",
   "execution_count": 15,
   "metadata": {},
   "outputs": [
    {
     "data": {
      "image/png": "[encoded data removed]",
      "text/plain": [
       "<matplotlib.figure.Figure at 0x1cbd57ba7b8>"
      ]
     },
     "metadata": {},
     "output_type": "display_data"
    }
   ],
   "source": [
    "plt.figure(1, figsize=(4, 3))\n",
    "plt.pcolormesh(xx, yy, Z, cmap=plt.cm.Paired)\n",
    "\n",
    "# Plot also the training points\n",
    "plt.scatter(X[:, 0], X[:, 1], c=Y, edgecolors='k', cmap=plt.cm.Paired)\n",
    "plt.xlabel('Sepal length')\n",
    "plt.ylabel('Sepal width')\n",
    "\n",
    "plt.xlim(xx.min(), xx.max())\n",
    "plt.ylim(yy.min(), yy.max())\n",
    "plt.xticks(())\n",
    "plt.yticks(())\n",
    "\n",
    "plt.show()"
   ]
  }
 ],
 "metadata": {
  "kernelspec": {
   "display_name": "Python 3",
   "language": "python",
   "name": "python3"
  },
  "language_info": {
   "codemirror_mode": {
    "name": "ipython",
    "version": 3
   },
   "file_extension": ".py",
   "mimetype": "text/x-python",
   "name": "python",
   "nbconvert_exporter": "python",
   "pygments_lexer": "ipython3",
   "version": "3.6.1"
  }
 },
 "nbformat": 4,
 "nbformat_minor": 2
}
